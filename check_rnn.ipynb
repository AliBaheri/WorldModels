{
 "cells": [
  {
   "cell_type": "code",
   "execution_count": 1,
   "metadata": {},
   "outputs": [
    {
     "name": "stderr",
     "output_type": "stream",
     "text": [
      "/Users/davidfoster/.virtualenvs/worldmodels/lib/python3.6/site-packages/h5py/__init__.py:36: FutureWarning: Conversion of the second argument of issubdtype from `float` to `np.floating` is deprecated. In future, it will be treated as `np.float64 == np.dtype(float).type`.\n",
      "  from ._conv import register_converters as _register_converters\n",
      "Using TensorFlow backend.\n"
     ]
    }
   ],
   "source": [
    "import numpy as np\n",
    "from rnn.arch import RNN\n",
    "from vae.arch import VAE\n",
    "import matplotlib.pyplot as plt\n",
    "from gym.utils import seeding\n",
    "batch_num = 0"
   ]
  },
  {
   "cell_type": "code",
   "execution_count": 14,
   "metadata": {},
   "outputs": [],
   "source": [
    "rnn = RNN()\n",
    "rnn.set_weights('./rnn/weights.h5')\n",
    "\n",
    "vae = VAE()\n",
    "vae.set_weights('./vae/weights.h5')"
   ]
  },
  {
   "cell_type": "code",
   "execution_count": 3,
   "metadata": {},
   "outputs": [],
   "source": [
    "obs_data = np.load('./data/obs_data_car_racing_' + str(batch_num) + '.npy') \n",
    "action_data = np.load('./data/action_data_car_racing_' + str(batch_num) + '.npy')\n",
    "reward_data = np.load('./data/reward_data_car_racing_' + str(batch_num) + '.npy') \n",
    "done_data = np.load('./data/done_data_car_racing_' + str(batch_num) + '.npy')\n",
    "rnn_input = np.load('./data/rnn_input_' + str(batch_num) + '.npy') \n",
    "rnn_output = np.load('./data/rnn_output_' + str(batch_num) + '.npy')"
   ]
  },
  {
   "cell_type": "code",
   "execution_count": 4,
   "metadata": {},
   "outputs": [
    {
     "data": {
      "text/plain": [
       "(299, 35)"
      ]
     },
     "execution_count": 4,
     "metadata": {},
     "output_type": "execute_result"
    }
   ],
   "source": [
    "rnn_input[0].shape"
   ]
  },
  {
   "cell_type": "code",
   "execution_count": 5,
   "metadata": {},
   "outputs": [
    {
     "data": {
      "text/plain": [
       "(299, 34)"
      ]
     },
     "execution_count": 5,
     "metadata": {},
     "output_type": "execute_result"
    }
   ],
   "source": [
    "rnn_output[0].shape"
   ]
  },
  {
   "cell_type": "code",
   "execution_count": 6,
   "metadata": {},
   "outputs": [],
   "source": [
    "GAUSSIAN_MIXTURES = 5\n",
    "Z_DIM = 32\n",
    "z_dim = 32\n",
    "\n",
    "def get_mixture_coef(y_pred):\n",
    "\n",
    "    d = GAUSSIAN_MIXTURES * Z_DIM\n",
    "\n",
    "    rollout_length = y_pred.shape[1]\n",
    "\n",
    "    pi = y_pred[:,:,:d]\n",
    "    mu = y_pred[:,:,d:(2*d)]\n",
    "    log_sigma = y_pred[:,:,(2*d):(3*d)]\n",
    "    reward = y_pred[:,:,(3*d):(3*d+1)]\n",
    "    done = y_pred[:,:,(3*d+1):]\n",
    "\n",
    "    pi = np.reshape(pi, [-1, rollout_length, GAUSSIAN_MIXTURES, Z_DIM])\n",
    "    mu = np.reshape(mu, [-1, rollout_length, GAUSSIAN_MIXTURES, Z_DIM])\n",
    "    log_sigma = np.reshape(log_sigma, [-1, rollout_length, GAUSSIAN_MIXTURES, Z_DIM])\n",
    "\n",
    "    pi = np.exp(pi) / np.sum(np.exp(pi), axis=2, keepdims=True)\n",
    "    sigma = np.exp(log_sigma)\n",
    "\n",
    "    return pi, mu, sigma, reward, done"
   ]
  },
  {
   "cell_type": "code",
   "execution_count": 7,
   "metadata": {},
   "outputs": [],
   "source": [
    "def get_pi_idx(x, pdf):\n",
    "  # samples from a categorial distribution\n",
    "  N = pdf.size\n",
    "  accumulate = 0\n",
    "  for i in range(0, N):\n",
    "    accumulate += pdf[i]\n",
    "    if (accumulate >= x):\n",
    "      return i\n",
    "  random_value = np.random.randint(N)\n",
    "  #print('error with sampling ensemble, returning random', random_value)\n",
    "  return random_value"
   ]
  },
  {
   "cell_type": "code",
   "execution_count": 8,
   "metadata": {},
   "outputs": [],
   "source": [
    "def sample_z(mu, sigma):\n",
    "    z = mu + sigma * np_random.randn(*sigma.shape)\n",
    "    return z"
   ]
  },
  {
   "cell_type": "code",
   "execution_count": 9,
   "metadata": {},
   "outputs": [],
   "source": [
    "np_random, seed = seeding.np_random()"
   ]
  },
  {
   "cell_type": "code",
   "execution_count": null,
   "metadata": {},
   "outputs": [],
   "source": []
  },
  {
   "cell_type": "code",
   "execution_count": 10,
   "metadata": {},
   "outputs": [],
   "source": [
    "def sample_next_mdn_output(obs):\n",
    "    \n",
    "    y_pred = rnn.model.predict(np.array([[obs]]))\n",
    "    _pi, _mu, _sigma, _reward, _done = get_mixture_coef(y_pred)\n",
    "\n",
    "    pi = _pi[0,0,:,:]\n",
    "    mu = _mu[0,0,:,:]\n",
    "    sigma = _sigma[0,0,:,:]\n",
    "    reward = _reward[0,0,:]\n",
    "    done = _done[0,0,:]\n",
    "\n",
    "    chosen_pi = np.zeros(z_dim)\n",
    "    chosen_mu = np.zeros(z_dim)\n",
    "    chosen_sigma = np.zeros(z_dim)\n",
    "\n",
    "    for j in range(z_dim):\n",
    "      idx = get_pi_idx(np_random.rand(), pi[:,j])\n",
    "      chosen_pi[j] = idx\n",
    "      chosen_mu[j] = mu[idx, j]\n",
    "      chosen_sigma[j] = sigma[idx, j]\n",
    "\n",
    "    next_z = sample_z(chosen_mu, chosen_sigma)\n",
    "\n",
    "    reward = np.exp(reward) / (1 + np.exp(reward))\n",
    "    done = np.exp(done) / (1 + np.exp(done))\n",
    "\n",
    "    if reward > 0.5:\n",
    "        next_reward = 3.2\n",
    "    else:\n",
    "        next_reward = -0.1\n",
    "\n",
    "    if done > 0.5:\n",
    "        next_done = True\n",
    "    else:\n",
    "        next_done = False\n",
    "        \n",
    "    return next_z, next_reward, next_done, chosen_mu, chosen_sigma, chosen_pi"
   ]
  },
  {
   "cell_type": "code",
   "execution_count": 11,
   "metadata": {},
   "outputs": [
    {
     "name": "stdout",
     "output_type": "stream",
     "text": [
      "[ 0.09903694 -0.4241842  -0.0196132  -1.58889688 -2.07245027  0.06449286\n",
      "  1.26596314  0.12766996 -0.85658666 -1.08248857  0.13957446 -2.17899252\n",
      "  0.02293727  0.12922618  1.31168869  0.34737417 -0.51875591  0.05377751\n",
      " -2.57555877  0.37708434 -0.26289903  0.11891239  0.12990692  0.20979169\n",
      " -1.97108139 -0.78712971  0.26978854 -0.17628121  0.28688138  0.93972955\n",
      " -0.70267182  0.00829816  0.          0.32002393  0.        ]\n",
      "[-0.35088536  0.2006762   0.96157022 -1.0847546   1.77705224  0.4077006\n",
      "  0.89167035 -0.97593187 -1.62714711 -1.05991577  0.17351801 -2.1676139\n",
      "  1.28694344  0.21733318  1.48546286 -0.54187198  0.01175269 -0.66152963\n",
      "  0.58711396  0.67408825 -0.15064799  0.16415768  0.21054918  0.14690109\n",
      " -1.89797578  0.3472241  -0.248941   -1.2810302  -0.01938026  0.95774316\n",
      "  0.50793918 -0.38324722  0.          0.        ]\n"
     ]
    }
   ],
   "source": [
    "idx = 75\n",
    "obs = rnn_input[0][idx]\n",
    "actual = rnn_output[0][idx] \n",
    "print(obs)\n",
    "print(actual)"
   ]
  },
  {
   "cell_type": "code",
   "execution_count": 12,
   "metadata": {},
   "outputs": [
    {
     "data": {
      "text/plain": [
       "[array([[-0.04655426, -0.06652027,  0.06326062, -0.42641288,  0.00919756,\n",
       "         -0.01866326, -0.06720687, -0.11880322, -0.36281854,  2.174596  ,\n",
       "         -0.07334159,  1.1118139 ,  0.02508092, -0.03761369,  1.1402255 ,\n",
       "         -0.03602701, -0.06486706,  0.01028838, -0.0713533 ,  0.5850992 ,\n",
       "          0.10928901, -0.63460094, -0.19474973,  2.508924  ,  0.09320733,\n",
       "         -0.06999912, -0.10844857, -0.0505893 , -0.03813688, -0.73185563,\n",
       "         -0.1700342 ,  0.00670168]], dtype=float32),\n",
       " array([[-0.20716761, -0.2241945 , -2.9716222 , -3.7824056 , -0.1779578 ,\n",
       "         -0.20479113, -0.06859446, -0.24500974, -2.9006107 , -3.7709582 ,\n",
       "         -3.7229276 , -3.2448142 , -0.28490752, -0.08096436, -3.624618  ,\n",
       "         -0.14321962, -0.1685074 , -0.1148582 , -0.11384161, -3.3880105 ,\n",
       "         -1.1003023 , -5.0126424 , -3.6125197 , -4.3030343 , -0.06409626,\n",
       "         -0.344004  , -0.05606374, -0.09560605, -0.17806885, -5.0438585 ,\n",
       "         -0.17223486, -0.12612966]], dtype=float32)]"
      ]
     },
     "execution_count": 12,
     "metadata": {},
     "output_type": "execute_result"
    }
   ],
   "source": [
    "vae.encoder_mu_log_var.predict(np.array([obs_data[4][idx]]))"
   ]
  },
  {
   "cell_type": "code",
   "execution_count": 15,
   "metadata": {},
   "outputs": [
    {
     "data": {
      "text/plain": [
       "<function matplotlib.pyplot.show>"
      ]
     },
     "execution_count": 15,
     "metadata": {},
     "output_type": "execute_result"
    },
    {
     "data": {
      "image/png": "[encoded data removed]",
      "text/plain": [
       "<Figure size 432x288 with 1 Axes>"
      ]
     },
     "metadata": {},
     "output_type": "display_data"
    }
   ],
   "source": [
    "z_decoded = vae.decoder.predict(np.array([obs[:32]]))[0]\n",
    "plt.imshow(z_decoded)\n",
    "plt.show"
   ]
  },
  {
   "cell_type": "code",
   "execution_count": 16,
   "metadata": {},
   "outputs": [
    {
     "data": {
      "text/plain": [
       "<function matplotlib.pyplot.show>"
      ]
     },
     "execution_count": 16,
     "metadata": {},
     "output_type": "execute_result"
    },
    {
     "data": {
      "image/png": "[encoded data removed]",
      "text/plain": [
       "<Figure size 432x288 with 1 Axes>"
      ]
     },
     "metadata": {},
     "output_type": "display_data"
    }
   ],
   "source": [
    "actual_z_decoded = vae.decoder.predict(np.array([actual[:32]]))[0]\n",
    "plt.imshow(actual_z_decoded)\n",
    "plt.show"
   ]
  },
  {
   "cell_type": "code",
   "execution_count": 39,
   "metadata": {},
   "outputs": [
    {
     "data": {
      "text/plain": [
       "<function matplotlib.pyplot.show>"
      ]
     },
     "execution_count": 39,
     "metadata": {},
     "output_type": "execute_result"
    },
    {
     "data": {
      "image/png": "[encoded data removed]",
      "text/plain": [
       "<Figure size 432x288 with 1 Axes>"
      ]
     },
     "metadata": {},
     "output_type": "display_data"
    }
   ],
   "source": [
    "next_z, next_reward, next_done, chosen_mu, chosen_sigma, chosen_pi = sample_next_mdn_output(obs)\n",
    "# print(chosen_pi)\n",
    "# print(chosen_mu)\n",
    "# print(chosen_sigma)\n",
    "# print(next_z)\n",
    "\n",
    "next_z_decoded = vae.decoder.predict(np.array([next_z]))[0]\n",
    "plt.imshow(next_z_decoded)\n",
    "plt.show"
   ]
  },
  {
   "cell_type": "code",
   "execution_count": 121,
   "metadata": {},
   "outputs": [
    {
     "data": {
      "text/plain": [
       "<function matplotlib.pyplot.show>"
      ]
     },
     "execution_count": 121,
     "metadata": {},
     "output_type": "execute_result"
    },
    {
     "data": {
      "image/png": "[encoded data removed]",
      "text/plain": [
       "<Figure size 432x288 with 1 Axes>"
      ]
     },
     "metadata": {},
     "output_type": "display_data"
    }
   ],
   "source": [
    "next_z_decoded = vae.decoder.predict(np.array([chosen_mu]))[0]\n",
    "plt.imshow(next_z_decoded)\n",
    "plt.show"
   ]
  },
  {
   "cell_type": "code",
   "execution_count": 66,
   "metadata": {},
   "outputs": [],
   "source": [
    "y_pred = rnn.model.predict(np.array([[obs]]))"
   ]
  },
  {
   "cell_type": "code",
   "execution_count": 67,
   "metadata": {},
   "outputs": [],
   "source": [
    "d = GAUSSIAN_MIXTURES * Z_DIM\n",
    "\n",
    "rollout_length = y_pred.shape[1]\n",
    "\n",
    "pi = y_pred[:,:,:d]\n",
    "mu = y_pred[:,:,d:(2*d)]\n",
    "log_sigma = y_pred[:,:,(2*d):(3*d)]\n",
    "reward = y_pred[:,:,(3*d):(3*d+1)]\n",
    "done = y_pred[:,:,(3*d+1):]"
   ]
  },
  {
   "cell_type": "code",
   "execution_count": 104,
   "metadata": {},
   "outputs": [
    {
     "data": {
      "text/plain": [
       "3.2"
      ]
     },
     "execution_count": 104,
     "metadata": {},
     "output_type": "execute_result"
    }
   ],
   "source": [
    "next_reward"
   ]
  },
  {
   "cell_type": "code",
   "execution_count": 69,
   "metadata": {},
   "outputs": [],
   "source": [
    "pi = np.reshape(pi, [-1, rollout_length, GAUSSIAN_MIXTURES, Z_DIM])\n",
    "mu = np.reshape(mu, [-1, rollout_length, GAUSSIAN_MIXTURES, Z_DIM])\n",
    "log_sigma = np.reshape(log_sigma, [-1, rollout_length, GAUSSIAN_MIXTURES, Z_DIM])\n",
    "\n",
    "pi = np.exp(pi) / np.sum(np.exp(pi), axis=2, keepdims=True)\n",
    "sigma = np.exp(log_sigma)"
   ]
  },
  {
   "cell_type": "code",
   "execution_count": 72,
   "metadata": {},
   "outputs": [
    {
     "data": {
      "text/plain": [
       "array([[0.17332809, 0.15662955, 0.5179722 , 0.12759934, 0.30732554,\n",
       "        0.17080006, 0.2102053 , 0.08229304, 0.18730298, 0.03496384,\n",
       "        0.02969552, 0.57183135, 0.19361672, 0.18950164, 0.1198101 ,\n",
       "        0.22958122, 0.22072983, 0.1457007 , 0.15459353, 0.12570432,\n",
       "        0.08773788, 0.19110036, 0.16422896, 0.21568958, 0.19818835,\n",
       "        0.21710834, 0.16740966, 0.15359114, 0.21590596, 0.4934277 ,\n",
       "        0.24480711, 0.17650785],\n",
       "       [0.22193207, 0.29621163, 0.09746887, 0.05463479, 0.16884992,\n",
       "        0.1594192 , 0.25685322, 0.19471781, 0.10183731, 0.81247836,\n",
       "        0.02993079, 0.18325275, 0.21753056, 0.22377491, 0.09063044,\n",
       "        0.19951849, 0.19882415, 0.23059364, 0.2407695 , 0.5040187 ,\n",
       "        0.35482338, 0.12694892, 0.1462783 , 0.30202433, 0.22349992,\n",
       "        0.1887898 , 0.20789021, 0.20232292, 0.19281134, 0.05054078,\n",
       "        0.18103147, 0.21313494],\n",
       "       [0.20519508, 0.13278729, 0.12306818, 0.39879134, 0.15186526,\n",
       "        0.25440022, 0.17028476, 0.2742324 , 0.22713068, 0.03427225,\n",
       "        0.20317368, 0.1799673 , 0.16859446, 0.18272054, 0.06087348,\n",
       "        0.14631133, 0.18497951, 0.27979523, 0.21614842, 0.07206211,\n",
       "        0.11612844, 0.5462442 , 0.06844062, 0.08044674, 0.1779191 ,\n",
       "        0.17707483, 0.2665886 , 0.21620175, 0.2131455 , 0.123078  ,\n",
       "        0.19050689, 0.21144958],\n",
       "       [0.25460786, 0.19430101, 0.19147152, 0.07017056, 0.20445444,\n",
       "        0.2147917 , 0.14365216, 0.20214957, 0.32637635, 0.04523158,\n",
       "        0.57083315, 0.03128997, 0.23898615, 0.20833243, 0.1297672 ,\n",
       "        0.17828389, 0.2196097 , 0.15861969, 0.18848681, 0.22597995,\n",
       "        0.38304716, 0.09785596, 0.49680266, 0.19391906, 0.19596529,\n",
       "        0.17321457, 0.12674046, 0.21343523, 0.18806793, 0.2194961 ,\n",
       "        0.14853026, 0.19072296],\n",
       "       [0.14493689, 0.22007048, 0.07001927, 0.34880397, 0.16750494,\n",
       "        0.20058887, 0.2190045 , 0.24660715, 0.1573527 , 0.07305398,\n",
       "        0.16636692, 0.03365861, 0.18127209, 0.19567044, 0.5989188 ,\n",
       "        0.24630505, 0.17585686, 0.18529074, 0.20000166, 0.07223491,\n",
       "        0.05826313, 0.03785054, 0.12424949, 0.20792025, 0.20442736,\n",
       "        0.24381247, 0.23137094, 0.21444896, 0.19006936, 0.11345746,\n",
       "        0.2351243 , 0.20818463]], dtype=float32)"
      ]
     },
     "execution_count": 72,
     "metadata": {},
     "output_type": "execute_result"
    }
   ],
   "source": [
    "pi"
   ]
  },
  {
   "cell_type": "code",
   "execution_count": 73,
   "metadata": {},
   "outputs": [],
   "source": [
    "_pi, _mu, _sigma, _reward, _done = get_mixture_coef(y_pred)\n",
    "\n",
    "pi = _pi[0,0,:,:]\n",
    "mu = _mu[0,0,:,:]\n",
    "sigma = _sigma[0,0,:,:]\n",
    "reward = _reward[0,0,:]\n",
    "done = _done[0,0,:]"
   ]
  },
  {
   "cell_type": "code",
   "execution_count": 74,
   "metadata": {},
   "outputs": [
    {
     "data": {
      "text/plain": [
       "array([[[-1.68347016e-01, -1.90562665e-01,  1.21322262e+00,\n",
       "         -3.55270863e-01,  4.74886239e-01, -1.36428162e-01,\n",
       "          9.54303741e-02, -7.49945045e-01,  8.61841142e-02,\n",
       "         -9.85395193e-01, -1.47785938e+00,  1.67253900e+00,\n",
       "         -6.77092373e-03, -3.82327065e-02, -1.72302946e-01,\n",
       "          1.54613048e-01,  9.18919295e-02, -3.23471159e-01,\n",
       "         -2.25866660e-01, -1.83158055e-01, -4.63916808e-01,\n",
       "          2.46700436e-01, -2.93200426e-02,  2.49242276e-01,\n",
       "          1.30517501e-03,  7.52091333e-02, -9.97870788e-02,\n",
       "         -2.73043364e-01,  1.00666545e-01,  1.32277870e+00,\n",
       "          2.18165472e-01, -1.91230029e-01,  7.88380802e-02,\n",
       "          4.46628064e-01, -4.57165897e-01, -1.20349538e+00,\n",
       "         -1.24011151e-01, -2.05384612e-01,  2.95850515e-01,\n",
       "          1.11319661e-01, -5.23166895e-01,  2.16037965e+00,\n",
       "         -1.46996760e+00,  5.34561217e-01,  1.09687872e-01,\n",
       "          1.28010362e-01, -4.51420695e-01,  1.42629780e-02,\n",
       "         -1.26267616e-02,  1.35631353e-01,  2.17174187e-01,\n",
       "          1.20552289e+00,  9.33349669e-01, -1.62313536e-01,\n",
       "         -1.45070493e-01,  5.85909486e-01,  1.21498391e-01,\n",
       "         -6.45531565e-02,  1.16779141e-01,  2.52748933e-03,\n",
       "         -1.24642914e-02, -9.55817103e-01, -8.36342275e-02,\n",
       "         -2.66985595e-03,  4.27863561e-04, -3.55697542e-01,\n",
       "         -2.23960370e-01,  7.84272194e-01, -2.30027750e-01,\n",
       "          2.61986941e-01, -1.15182161e-01,  4.53744173e-01,\n",
       "          2.78982133e-01, -1.00537372e+00,  4.45205718e-01,\n",
       "          5.16470015e-01, -1.45155251e-01, -7.46725425e-02,\n",
       "         -8.49413276e-01, -2.95907170e-01, -8.48024711e-02,\n",
       "          3.29032362e-01,  1.09299436e-01, -7.39562035e-01,\n",
       "         -1.83573604e-01,  1.29696786e+00, -9.04614925e-01,\n",
       "         -7.37002730e-01, -1.06583640e-01, -1.28614932e-01,\n",
       "          3.65475714e-01,  6.88744485e-02,  8.77984911e-02,\n",
       "         -6.57793432e-02, -3.26168239e-02, -1.06087551e-02,\n",
       "          2.16191262e-01,  2.49625128e-02,  2.18040153e-01,\n",
       "         -9.53237295e-01,  6.73237219e-02,  9.27469507e-02,\n",
       "         -2.85259604e-01,  1.48776248e-01,  6.41507745e-01,\n",
       "         -7.27914095e-01,  1.47824144e+00, -1.23300755e+00,\n",
       "          2.03754142e-01,  5.65047115e-02, -9.24688652e-02,\n",
       "         -9.82667282e-02,  8.68043005e-02, -2.38516256e-01,\n",
       "         -2.76378337e-02,  4.03355837e-01,  1.00988770e+00,\n",
       "         -4.22601759e-01,  1.07761133e+00,  1.42842785e-01,\n",
       "         -9.97509342e-03, -1.50656208e-01, -3.78089726e-01,\n",
       "          5.59959486e-02, -3.73732783e-02,  5.12736797e-01,\n",
       "         -2.81516343e-01, -1.13773458e-01, -3.47234815e-01,\n",
       "          1.49501801e-01, -7.87928343e-01,  6.50343955e-01,\n",
       "         -1.32008553e-01,  2.43355818e-02,  1.36437893e-01,\n",
       "          3.47564995e-01, -8.80536586e-02, -2.48511046e-01,\n",
       "          2.45340288e-01, -1.16003609e+00, -7.26523027e-02,\n",
       "         -6.19854964e-03,  1.43691516e+00,  2.24926963e-01,\n",
       "         -1.35377154e-01, -8.30994844e-02,  3.16597298e-02,\n",
       "         -7.37167060e-01, -8.73300970e-01, -1.37245297e+00,\n",
       "         -3.08290005e-01,  2.12556556e-01,  3.23000774e-02,\n",
       "          1.91211998e-01,  2.23791227e-01,  6.07342012e-02,\n",
       "         -2.67873816e-02, -1.47169739e-01,  1.77809224e-01,\n",
       "         -2.61700042e-02,  1.12677455e-01, -9.13080573e-02,\n",
       "         -2.10736722e-01,  3.21562350e-01, -2.67755054e-02,\n",
       "         -1.46723449e-01, -2.18825087e-01, -2.03439742e-02,\n",
       "         -5.38776778e-02,  4.06804651e-01, -1.37524396e-01,\n",
       "          6.24851584e-01, -5.01179211e-02, -1.97335079e-01,\n",
       "         -3.25899094e-01, -1.26750037e-01,  2.36382931e-02,\n",
       "         -3.17744538e-03, -3.22823077e-02,  2.56333202e-01,\n",
       "         -8.47487599e-02, -4.84117568e-01, -2.81529725e-01,\n",
       "          2.80524254e-01, -1.04738683e-01, -5.31649739e-02,\n",
       "         -4.41144966e-03, -8.90310332e-02,  9.94103998e-02,\n",
       "          7.78580368e-01,  2.07553953e-02,  3.46948020e-02,\n",
       "         -1.19015060e-01,  3.35799865e-02,  1.34895802e-01,\n",
       "          2.87144452e-01, -3.35668623e-02, -9.44573656e-02,\n",
       "         -6.90353513e-02, -1.55563936e-01, -1.47677124e-01,\n",
       "          8.90049160e-01, -1.57158792e-01,  5.54227173e-01,\n",
       "         -5.64436093e-02, -1.05047353e-01, -3.47778648e-01,\n",
       "         -6.48833960e-02, -1.52041540e-02, -1.06011778e-01,\n",
       "         -4.46371436e-02,  2.07267940e-01, -2.33749837e-01,\n",
       "         -5.53756177e-01, -1.24843299e-01,  2.45898560e-01,\n",
       "          4.25991369e-03, -1.06922552e-01, -2.19340585e-02,\n",
       "          1.12467200e-01,  6.62018955e-02,  7.32147813e-01,\n",
       "         -1.46977201e-01, -1.38117626e-01, -2.13743120e-01,\n",
       "         -1.06898956e-02,  2.58432589e-02,  6.40501797e-01,\n",
       "          1.10423192e-02, -1.15301326e-01, -1.02972910e-01,\n",
       "         -7.58393705e-02, -3.76197509e-02,  7.51746237e-01,\n",
       "         -2.94458568e-01,  4.64697242e-01,  5.32855429e-02,\n",
       "         -1.96770072e-01, -1.92075029e-01, -4.20469753e-02,\n",
       "         -1.60985813e-03, -3.46858092e-02, -9.49316025e-02,\n",
       "          4.05678034e-01, -8.65478441e-02, -5.99216938e-01,\n",
       "         -6.25326931e-02,  3.28479111e-01,  4.27841097e-02,\n",
       "         -1.02107469e-02,  8.92940611e-02, -2.24518236e-02,\n",
       "          8.50149915e-02,  7.75256157e-01,  2.61908621e-02,\n",
       "          1.28780648e-01, -9.17954445e-02, -3.83833125e-02,\n",
       "          2.71998167e-01,  4.21437770e-01, -2.47221217e-02,\n",
       "          1.26852691e-02,  1.15586832e-01, -1.32304013e-01,\n",
       "          6.70931712e-02,  2.59973049e-01, -5.88183165e-01,\n",
       "          2.94388473e-01, -1.23650268e-01,  1.63417086e-02,\n",
       "         -2.57125318e-01,  2.53719091e-02,  1.27863556e-01,\n",
       "         -1.49920702e-01, -6.84763789e-02,  3.32179755e-01,\n",
       "          4.40375060e-02, -4.83440101e-01, -9.40150917e-02,\n",
       "          3.83190066e-01, -1.04734702e-02,  2.15280689e-02,\n",
       "         -1.31287053e-01,  1.40196458e-01,  7.87009373e-02,\n",
       "          8.72604549e-01,  3.78225446e-02,  1.96658522e-02,\n",
       "         -4.37864065e-02, -2.21297875e-01,  8.67152512e-02,\n",
       "          3.94551128e-01, -1.02523826e-01,  1.95055038e-01,\n",
       "         -1.16626337e-01, -4.56566736e-03, -6.74403161e-02,\n",
       "          6.22708201e-01, -3.20006460e-01,  3.94678324e-01,\n",
       "         -1.11443754e-02,  1.01100937e-01, -3.07215452e-01,\n",
       "         -2.36885786e-01,  1.10765964e-01,  1.44212946e-01,\n",
       "          8.00011083e-02,  4.35514480e-01, -1.57963395e-01,\n",
       "         -2.31156617e-01, -2.54613489e-01,  3.65174919e-01,\n",
       "          1.07155025e-01, -1.09406412e-01,  7.45656416e-02,\n",
       "          6.89219236e-02, -1.15674809e-01,  7.37604380e-01,\n",
       "         -6.83977678e-02, -1.46690264e-01, -1.06515206e-01,\n",
       "         -6.88235909e-02,  4.96943146e-02, -5.04839063e-01,\n",
       "         -6.66615069e-02,  2.07385048e-03, -2.41393130e-03,\n",
       "         -2.47636121e-02, -1.39255911e-01, -1.34376720e-01,\n",
       "         -3.27335000e-01, -5.14372230e-01, -2.16470957e-02,\n",
       "         -5.67159802e-02, -2.20810637e-01,  1.13822445e-02,\n",
       "         -2.17619576e-02, -3.23125347e-02,  5.19084409e-02,\n",
       "         -6.70890585e-02, -7.85770938e-02, -3.73748481e-01,\n",
       "         -3.87650251e-01, -1.57329053e-01, -3.55086215e-02,\n",
       "         -9.14632976e-02, -3.77796143e-02, -3.75186317e-02,\n",
       "          1.44241564e-02, -5.52795649e-01, -2.00456344e-02,\n",
       "         -5.79027273e-02, -5.08821309e-02,  2.04484835e-02,\n",
       "          4.11793664e-02, -1.97236016e-01, -7.85434470e-02,\n",
       "         -1.10940665e-01,  9.06356238e-03,  3.68021056e-03,\n",
       "         -1.56684965e-01, -2.67122447e-01, -1.51861608e-01,\n",
       "         -4.15309548e-01, -1.16712861e-02,  6.76893294e-02,\n",
       "         -3.15796614e-01, -1.38321985e-02, -5.24131581e-02,\n",
       "          7.47794658e-02,  1.92144439e-02, -3.10548663e-01,\n",
       "         -5.18876761e-02, -3.42394173e-01, -3.88503432e-01,\n",
       "         -1.81308135e-01,  2.26297006e-02, -6.26580343e-02,\n",
       "         -3.20246518e-02,  5.07090576e-02, -2.55110450e-02,\n",
       "         -3.31364453e-01, -4.03799564e-02, -1.05684742e-01,\n",
       "          1.97544582e-02, -4.66139242e-02, -2.84198225e-02,\n",
       "         -3.31392050e-01, -8.86870772e-02, -3.67750078e-02,\n",
       "          1.92171820e-02, -4.12526727e-03, -8.34802985e-02,\n",
       "         -5.53907335e-01, -5.43528974e-01, -5.91327965e-01,\n",
       "         -1.18678644e-01, -2.15080474e-03, -9.75589305e-02,\n",
       "         -3.25081684e-02, -2.41050888e-02,  5.05702272e-02,\n",
       "         -3.61587554e-02, -3.92594755e-01, -1.71384722e-01,\n",
       "         -4.17135894e-01, -1.11921392e-01, -2.24800020e-01,\n",
       "         -6.23720810e-02, -5.45005687e-02, -1.43530890e-02,\n",
       "         -3.63532193e-02,  8.25965703e-02, -4.83399749e-01,\n",
       "         -7.14457333e-02, -1.16049834e-02, -9.09283757e-04,\n",
       "         -9.80491191e-02,  3.55616212e-03, -1.69149220e-01,\n",
       "         -4.51694727e-02, -2.46748663e-02,  1.90515853e-02,\n",
       "          4.41339724e-02, -1.76669106e-01, -2.28199780e-01,\n",
       "         -4.58015919e-01, -3.13080817e-01,  1.82758681e-02,\n",
       "          3.75860743e-03, -3.04496050e-01, -5.10437414e-02,\n",
       "          4.50696126e-02,  4.63578925e-02,  1.47090852e-02,\n",
       "         -4.34858412e-01, -6.92284554e-02, -3.98245931e-01,\n",
       "         -4.66192782e-01, -2.98544049e-01, -1.14289552e-01,\n",
       "         -1.84401870e-03, -9.33874398e-02, -8.38818401e-03,\n",
       "         -6.94916919e-02, -5.12260854e-01,  4.71731648e-02,\n",
       "         -2.38494761e-03, -3.88654545e-02, -7.92430714e-03,\n",
       "         -1.18000396e-01, -4.78811443e-01, -1.01259723e-03,\n",
       "          2.55160443e-02, -5.50758764e-02,  2.09998339e-03,\n",
       "         -8.64961147e-02, -3.58414620e-01, -5.88558495e-01,\n",
       "         -2.90368557e-01, -8.00642371e-02, -3.70599814e-02,\n",
       "         -2.96262503e-01, -3.63556296e-03, -1.36077590e-02,\n",
       "         -6.31725267e-02,  5.49727585e-03, -2.69109011e-01,\n",
       "         -8.64230096e-02,  2.81832889e-02, -2.34405220e-01,\n",
       "         -3.30550611e-01, -4.88751829e-02, -5.12988009e-02,\n",
       "          2.48152874e-02, -5.94934076e-02, -4.87291105e-02,\n",
       "         -2.30787948e-01, -2.39966959e-02, -5.74826300e-02,\n",
       "          4.58950162e-01, -6.39919415e-02]]], dtype=float32)"
      ]
     },
     "execution_count": 74,
     "metadata": {},
     "output_type": "execute_result"
    }
   ],
   "source": [
    "y_pred"
   ]
  },
  {
   "cell_type": "code",
   "execution_count": null,
   "metadata": {},
   "outputs": [],
   "source": []
  }
 ],
 "metadata": {
  "kernelspec": {
   "display_name": "worldmodels",
   "language": "python",
   "name": "worldmodels"
  },
  "language_info": {
   "codemirror_mode": {
    "name": "ipython",
    "version": 3
   },
   "file_extension": ".py",
   "mimetype": "text/x-python",
   "name": "python",
   "nbconvert_exporter": "python",
   "pygments_lexer": "ipython3",
   "version": "3.6.4"
  }
 },
 "nbformat": 4,
 "nbformat_minor": 2
}
