{
 "cells": [
  {
   "cell_type": "code",
   "execution_count": 1,
   "metadata": {},
   "outputs": [
    {
     "name": "stderr",
     "output_type": "stream",
     "text": [
      "/Users/davidfoster/.virtualenvs/worldmodels/lib/python3.6/site-packages/h5py/__init__.py:36: FutureWarning: Conversion of the second argument of issubdtype from `float` to `np.floating` is deprecated. In future, it will be treated as `np.float64 == np.dtype(float).type`.\n",
      "  from ._conv import register_converters as _register_converters\n",
      "Using TensorFlow backend.\n"
     ]
    }
   ],
   "source": [
    "import numpy as np\n",
    "from rnn.arch import RNN\n",
    "from vae.arch import VAE\n",
    "import matplotlib.pyplot as plt\n",
    "from gym.utils import seeding\n",
    "batch_num = 0"
   ]
  },
  {
   "cell_type": "code",
   "execution_count": 2,
   "metadata": {},
   "outputs": [],
   "source": [
    "rnn = RNN()\n",
    "rnn.set_weights('./rnn/weights.h5')\n",
    "\n",
    "vae = VAE()\n",
    "vae.set_weights('./vae/weights.h5')"
   ]
  },
  {
   "cell_type": "code",
   "execution_count": 3,
   "metadata": {},
   "outputs": [],
   "source": [
    "obs_data = np.load('./data/obs_data_car_racing_' + str(batch_num) + '.npy') \n",
    "action_data = np.load('./data/action_data_car_racing_' + str(batch_num) + '.npy')\n",
    "reward_data = np.load('./data/reward_data_car_racing_' + str(batch_num) + '.npy') \n",
    "done_data = np.load('./data/done_data_car_racing_' + str(batch_num) + '.npy')\n",
    "rnn_input = np.load('./data/rnn_input_' + str(batch_num) + '.npy') \n",
    "rnn_output = np.load('./data/rnn_output_' + str(batch_num) + '.npy')"
   ]
  },
  {
   "cell_type": "code",
   "execution_count": 4,
   "metadata": {},
   "outputs": [
    {
     "data": {
      "text/plain": [
       "(299, 35)"
      ]
     },
     "execution_count": 4,
     "metadata": {},
     "output_type": "execute_result"
    }
   ],
   "source": [
    "rnn_input[0].shape"
   ]
  },
  {
   "cell_type": "code",
   "execution_count": 5,
   "metadata": {},
   "outputs": [
    {
     "data": {
      "text/plain": [
       "(299, 34)"
      ]
     },
     "execution_count": 5,
     "metadata": {},
     "output_type": "execute_result"
    }
   ],
   "source": [
    "rnn_output[0].shape"
   ]
  },
  {
   "cell_type": "code",
   "execution_count": 6,
   "metadata": {},
   "outputs": [],
   "source": [
    "GAUSSIAN_MIXTURES = 5\n",
    "Z_DIM = 32\n",
    "z_dim = 32\n",
    "\n",
    "def get_mixture_coef(y_pred):\n",
    "\n",
    "    d = GAUSSIAN_MIXTURES * Z_DIM\n",
    "\n",
    "    rollout_length = y_pred.shape[1]\n",
    "\n",
    "    pi = y_pred[:,:,:d]\n",
    "    mu = y_pred[:,:,d:(2*d)]\n",
    "    log_sigma = y_pred[:,:,(2*d):(3*d)]\n",
    "    reward = y_pred[:,:,(3*d):(3*d+1)]\n",
    "    done = y_pred[:,:,(3*d+1):]\n",
    "\n",
    "    pi = np.reshape(pi, [-1, rollout_length, GAUSSIAN_MIXTURES, Z_DIM])\n",
    "    mu = np.reshape(mu, [-1, rollout_length, GAUSSIAN_MIXTURES, Z_DIM])\n",
    "    log_sigma = np.reshape(log_sigma, [-1, rollout_length, GAUSSIAN_MIXTURES, Z_DIM])\n",
    "\n",
    "    pi = np.exp(pi) / np.sum(np.exp(pi), axis=2, keepdims=True)\n",
    "    sigma = np.exp(log_sigma)\n",
    "\n",
    "    return pi, mu, sigma, reward, done"
   ]
  },
  {
   "cell_type": "code",
   "execution_count": 7,
   "metadata": {},
   "outputs": [],
   "source": [
    "def get_pi_idx(x, pdf):\n",
    "  # samples from a categorial distribution\n",
    "  N = pdf.size\n",
    "  accumulate = 0\n",
    "  for i in range(0, N):\n",
    "    accumulate += pdf[i]\n",
    "    if (accumulate >= x):\n",
    "      return i\n",
    "  random_value = np.random.randint(N)\n",
    "  #print('error with sampling ensemble, returning random', random_value)\n",
    "  return random_value"
   ]
  },
  {
   "cell_type": "code",
   "execution_count": 8,
   "metadata": {},
   "outputs": [],
   "source": [
    "def sample_z(mu, sigma):\n",
    "    z = mu + sigma * np_random.randn(*sigma.shape)\n",
    "    return z"
   ]
  },
  {
   "cell_type": "code",
   "execution_count": 9,
   "metadata": {},
   "outputs": [],
   "source": [
    "np_random, seed = seeding.np_random()"
   ]
  },
  {
   "cell_type": "code",
   "execution_count": null,
   "metadata": {},
   "outputs": [],
   "source": []
  },
  {
   "cell_type": "code",
   "execution_count": 10,
   "metadata": {},
   "outputs": [],
   "source": [
    "def sample_next_mdn_output(obs):\n",
    "    \n",
    "    y_pred = rnn.model.predict(np.array([[obs]]))\n",
    "    _pi, _mu, _sigma, _reward, _done = get_mixture_coef(y_pred)\n",
    "\n",
    "    pi = _pi[0,0,:,:]\n",
    "    mu = _mu[0,0,:,:]\n",
    "    sigma = _sigma[0,0,:,:]\n",
    "    reward = _reward[0,0,:]\n",
    "    done = _done[0,0,:]\n",
    "\n",
    "    chosen_pi = np.zeros(z_dim)\n",
    "    chosen_mu = np.zeros(z_dim)\n",
    "    chosen_sigma = np.zeros(z_dim)\n",
    "\n",
    "    for j in range(z_dim):\n",
    "      idx = get_pi_idx(np_random.rand(), pi[:,j])\n",
    "      chosen_pi[j] = idx\n",
    "      chosen_mu[j] = mu[idx, j]\n",
    "      chosen_sigma[j] = sigma[idx, j]\n",
    "\n",
    "    next_z = sample_z(chosen_mu, chosen_sigma)\n",
    "\n",
    "    reward = np.exp(reward) / (1 + np.exp(reward))\n",
    "    done = np.exp(done) / (1 + np.exp(done))\n",
    "\n",
    "    if reward > 0.5:\n",
    "        next_reward = 3.2\n",
    "    else:\n",
    "        next_reward = -0.1\n",
    "\n",
    "    if done > 0.5:\n",
    "        next_done = True\n",
    "    else:\n",
    "        next_done = False\n",
    "        \n",
    "    return next_z, next_reward, next_done, chosen_mu, chosen_sigma, chosen_pi"
   ]
  },
  {
   "cell_type": "code",
   "execution_count": 32,
   "metadata": {},
   "outputs": [
    {
     "name": "stdout",
     "output_type": "stream",
     "text": [
      "[-0.08085405  0.79356366 -0.45640498  0.57098371  0.07596041  0.1884623\n",
      "  0.13534099 -0.20389371  0.47626004 -0.59010834  0.55656809 -0.10050996\n",
      "  0.07420243  0.05501225  0.82951158  0.17075323  0.18568632  0.28184897\n",
      " -0.25235027  0.01712789  0.52777451  0.05759776 -0.06968933 -0.58070183\n",
      "  0.21361732 -0.2576319  -2.50369358  0.26601374 -1.59571147  0.01395124\n",
      " -0.04116146 -1.19923556  0.          1.          0.        ]\n",
      "[-0.09969877  0.88823479 -0.53118771  0.57391649  0.14660884  0.25712913\n",
      "  0.12652907 -0.20380633  0.50952441 -0.60271031  0.52950698 -0.14730118\n",
      "  0.08701086  0.01233077  0.78943592  0.14903311  0.18729617  0.27868229\n",
      " -0.17408542  0.07637896  0.4667123   0.13437158 -0.05626293 -0.53932166\n",
      "  0.09737018 -0.15297094 -2.48393011  0.23491728 -1.72058487  0.02089619\n",
      " -0.07690908 -1.11532295  0.          0.        ]\n"
     ]
    }
   ],
   "source": [
    "idx = 51\n",
    "obs = rnn_input[0][idx]\n",
    "actual = rnn_output[0][idx] \n",
    "print(obs)\n",
    "print(actual)"
   ]
  },
  {
   "cell_type": "code",
   "execution_count": 33,
   "metadata": {},
   "outputs": [
    {
     "data": {
      "text/plain": [
       "[array([[-0.12992339, -1.0771388 , -1.2458864 , -0.08433475, -0.03642885,\n",
       "         -0.45453078, -0.12428801, -0.1704531 , -0.13326722,  0.05550963,\n",
       "          0.77233577,  0.21587795, -0.02991135, -0.00271763, -0.7857278 ,\n",
       "         -0.19608149,  0.0226208 ,  0.22197863, -0.19745263, -0.25374576,\n",
       "         -0.23654425, -0.076895  ,  0.21258405,  0.4773887 ,  0.10261494,\n",
       "         -0.13168171, -2.31279   ,  0.0390784 ,  0.5014414 ,  0.10023031,\n",
       "         -0.07899055, -0.30848524]], dtype=float32),\n",
       " array([[-1.1971948 , -2.6422117 , -2.5475183 , -0.01093458, -0.21853165,\n",
       "         -2.0038633 , -0.5489326 , -0.44209236,  0.056089  , -0.0902566 ,\n",
       "         -2.3084095 ,  0.09707913, -0.04998481, -0.12577961, -0.7145065 ,\n",
       "         -0.12660325, -0.10941827, -0.33521357, -0.2832477 , -0.18836965,\n",
       "         -0.11168782,  0.04451053, -0.01064344, -0.30865484, -0.37667555,\n",
       "         -1.5648048 , -3.4662585 , -0.13030161, -3.0294948 ,  0.13102065,\n",
       "         -0.11477968, -1.9139647 ]], dtype=float32)]"
      ]
     },
     "execution_count": 33,
     "metadata": {},
     "output_type": "execute_result"
    }
   ],
   "source": [
    "vae.encoder_mu_log_var.predict(np.array([obs_data[4][idx]]))"
   ]
  },
  {
   "cell_type": "code",
   "execution_count": 34,
   "metadata": {},
   "outputs": [
    {
     "data": {
      "text/plain": [
       "<function matplotlib.pyplot.show>"
      ]
     },
     "execution_count": 34,
     "metadata": {},
     "output_type": "execute_result"
    },
    {
     "data": {
      "image/png": "[encoded data removed]",
      "text/plain": [
       "<Figure size 432x288 with 1 Axes>"
      ]
     },
     "metadata": {},
     "output_type": "display_data"
    }
   ],
   "source": [
    "z_decoded = vae.decoder.predict(np.array([obs[:32]]))[0]\n",
    "plt.imshow(z_decoded)\n",
    "plt.show"
   ]
  },
  {
   "cell_type": "code",
   "execution_count": 35,
   "metadata": {},
   "outputs": [
    {
     "data": {
      "text/plain": [
       "<function matplotlib.pyplot.show>"
      ]
     },
     "execution_count": 35,
     "metadata": {},
     "output_type": "execute_result"
    },
    {
     "data": {
      "image/png": "[encoded data removed]",
      "text/plain": [
       "<Figure size 432x288 with 1 Axes>"
      ]
     },
     "metadata": {},
     "output_type": "display_data"
    }
   ],
   "source": [
    "actual_z_decoded = vae.decoder.predict(np.array([actual[:32]]))[0]\n",
    "plt.imshow(actual_z_decoded)\n",
    "plt.show"
   ]
  },
  {
   "cell_type": "code",
   "execution_count": 48,
   "metadata": {},
   "outputs": [
    {
     "data": {
      "text/plain": [
       "<function matplotlib.pyplot.show>"
      ]
     },
     "execution_count": 48,
     "metadata": {},
     "output_type": "execute_result"
    },
    {
     "data": {
      "image/png": "[encoded data removed]",
      "text/plain": [
       "<Figure size 432x288 with 1 Axes>"
      ]
     },
     "metadata": {},
     "output_type": "display_data"
    }
   ],
   "source": [
    "next_z, next_reward, next_done, chosen_mu, chosen_sigma, chosen_pi = sample_next_mdn_output(obs)\n",
    "# print(chosen_pi)\n",
    "# print(chosen_mu)\n",
    "# print(chosen_sigma)\n",
    "# print(next_z)\n",
    "\n",
    "next_z_decoded = vae.decoder.predict(np.array([next_z]))[0]\n",
    "plt.imshow(next_z_decoded)\n",
    "plt.show"
   ]
  },
  {
   "cell_type": "code",
   "execution_count": 37,
   "metadata": {},
   "outputs": [
    {
     "data": {
      "text/plain": [
       "<function matplotlib.pyplot.show>"
      ]
     },
     "execution_count": 37,
     "metadata": {},
     "output_type": "execute_result"
    },
    {
     "data": {
      "image/png": "[encoded data removed]",
      "text/plain": [
       "<Figure size 432x288 with 1 Axes>"
      ]
     },
     "metadata": {},
     "output_type": "display_data"
    }
   ],
   "source": [
    "next_z_decoded = vae.decoder.predict(np.array([chosen_mu]))[0]\n",
    "plt.imshow(next_z_decoded)\n",
    "plt.show"
   ]
  },
  {
   "cell_type": "code",
   "execution_count": 37,
   "metadata": {},
   "outputs": [],
   "source": [
    "y_pred = rnn.model.predict(np.array([[obs]]))"
   ]
  },
  {
   "cell_type": "code",
   "execution_count": 119,
   "metadata": {},
   "outputs": [],
   "source": [
    "d = GAUSSIAN_MIXTURES * Z_DIM\n",
    "\n",
    "rollout_length = y_pred.shape[1]\n",
    "\n",
    "pi = y_pred[:,:,:d]\n",
    "mu = y_pred[:,:,d:(2*d)]\n",
    "log_sigma = y_pred[:,:,(2*d):(3*d)]\n",
    "reward = y_pred[:,:,(3*d):(3*d+1)]\n",
    "done = y_pred[:,:,(3*d+1):]"
   ]
  },
  {
   "cell_type": "code",
   "execution_count": 120,
   "metadata": {},
   "outputs": [
    {
     "data": {
      "text/plain": [
       "array([[[0.04972614]]], dtype=float32)"
      ]
     },
     "execution_count": 120,
     "metadata": {},
     "output_type": "execute_result"
    }
   ],
   "source": [
    "done"
   ]
  },
  {
   "cell_type": "code",
   "execution_count": 101,
   "metadata": {},
   "outputs": [],
   "source": [
    "pi = np.reshape(pi, [-1, rollout_length, GAUSSIAN_MIXTURES, Z_DIM])\n",
    "mu = np.reshape(mu, [-1, rollout_length, GAUSSIAN_MIXTURES, Z_DIM])\n",
    "log_sigma = np.reshape(log_sigma, [-1, rollout_length, GAUSSIAN_MIXTURES, Z_DIM])\n",
    "\n",
    "pi = np.exp(pi) / np.sum(np.exp(pi), axis=2, keepdims=True)\n",
    "sigma = np.exp(log_sigma)"
   ]
  },
  {
   "cell_type": "code",
   "execution_count": null,
   "metadata": {},
   "outputs": [],
   "source": [
    "pii"
   ]
  },
  {
   "cell_type": "code",
   "execution_count": 99,
   "metadata": {},
   "outputs": [],
   "source": [
    "_pi, _mu, _sigma, _reward, _done = get_mixture_coef(y_pred)\n",
    "\n",
    "pi = _pi[0,0,:,:]\n",
    "mu = _mu[0,0,:,:]\n",
    "sigma = _sigma[0,0,:,:]\n",
    "reward = _reward[0,0,:]\n",
    "done = _done[0,0,:]"
   ]
  },
  {
   "cell_type": "code",
   "execution_count": 100,
   "metadata": {},
   "outputs": [
    {
     "data": {
      "text/plain": [
       "array([[[-8.42247158e-02,  1.73397347e-01, -2.22273692e-02,\n",
       "         -1.93779916e-03, -2.23032553e-02,  2.75323808e-01,\n",
       "          5.54454252e-02, -6.38567358e-02,  2.76359648e-01,\n",
       "         -4.65244830e-01, -2.51006335e-03, -1.70731142e-01,\n",
       "          1.00091226e-01, -1.06834263e-01, -2.87596613e-01,\n",
       "         -3.88700575e-01, -2.53606379e-01, -3.69105041e-01,\n",
       "          1.37216941e-01, -3.15674953e-02,  3.39195758e-01,\n",
       "         -1.69149503e-01, -1.64942399e-01, -3.07070017e-01,\n",
       "         -6.09543920e-02, -7.27650598e-02,  2.27079540e-01,\n",
       "          6.96767718e-02,  3.74249890e-02, -1.20351635e-01,\n",
       "         -2.31335476e-01, -3.05184219e-02, -3.04748058e-01,\n",
       "         -2.95856465e-02, -1.76349446e-01,  1.87404975e-02,\n",
       "          1.20319456e-01, -1.45747215e-01, -3.38560790e-02,\n",
       "          2.04621106e-02, -2.09008187e-01,  3.43991458e-01,\n",
       "          3.72321814e-01,  2.83092558e-02,  3.49973375e-03,\n",
       "          1.02967232e-01,  4.53605317e-03,  2.98518836e-01,\n",
       "         -1.08144417e-01,  4.20536011e-01,  3.48875165e-01,\n",
       "          9.73500237e-02, -1.89281508e-01, -4.41653430e-02,\n",
       "          8.30023885e-02,  8.69575143e-02,  1.67706296e-01,\n",
       "         -5.23453988e-02, -3.62335056e-01, -2.41106413e-02,\n",
       "          8.48616958e-02,  7.19248950e-02, -7.20274299e-02,\n",
       "         -4.56016511e-04,  2.62736648e-01,  1.01240776e-01,\n",
       "          7.96486586e-02,  6.25573918e-02, -1.38472728e-02,\n",
       "          3.80702585e-01,  3.94291244e-02, -1.00940183e-01,\n",
       "         -1.03562355e-01,  1.46530718e-01, -4.72326577e-01,\n",
       "          9.11470056e-02, -2.03051493e-02,  1.45526186e-01,\n",
       "          3.22315395e-02, -1.65287554e-01,  2.16493785e-01,\n",
       "         -2.37137526e-01, -2.32844837e-02, -4.34260368e-02,\n",
       "         -1.24134451e-01, -8.69864672e-02,  1.89767152e-01,\n",
       "          1.32957801e-01, -7.47051984e-02,  4.44144934e-01,\n",
       "          3.13357823e-03,  3.89500111e-01, -1.44681901e-01,\n",
       "         -3.14096987e-01,  1.78659409e-01,  2.04615682e-01,\n",
       "         -2.67846137e-01, -1.51304469e-01, -5.37736788e-02,\n",
       "          7.45868087e-02,  7.84015879e-02, -1.22683540e-01,\n",
       "         -1.56371798e-02, -4.79567125e-02,  3.80997300e-01,\n",
       "          7.22179264e-02, -3.69393937e-02,  1.88034326e-01,\n",
       "         -6.45527840e-02, -6.54497743e-03,  4.82914418e-01,\n",
       "          4.01776493e-01,  2.86555681e-02,  4.47501540e-02,\n",
       "         -3.56223285e-01, -6.04957342e-02,  3.99621539e-02,\n",
       "          1.78772300e-01,  6.74307495e-02, -3.43044400e-02,\n",
       "         -1.06757000e-01, -3.28554660e-01,  2.85863608e-01,\n",
       "         -2.19013602e-01, -2.98444450e-01,  2.90731430e-01,\n",
       "         -2.03922644e-01, -9.04699191e-02,  3.96250933e-03,\n",
       "         -1.05657429e-01,  7.19301626e-02, -9.25080627e-02,\n",
       "         -9.53971408e-03, -4.43257391e-01, -9.13918316e-02,\n",
       "          1.82010174e-01, -1.45387545e-01, -1.24693669e-01,\n",
       "          1.33202121e-01,  2.81399824e-02,  3.05632859e-01,\n",
       "          8.04265589e-02, -2.69761175e-01, -3.83605957e-01,\n",
       "          8.30412954e-02,  2.73426473e-01, -1.53164461e-01,\n",
       "          9.30483490e-02,  1.60048008e-01, -5.32588363e-03,\n",
       "         -1.18408039e-01,  2.18128517e-01,  1.12458311e-01,\n",
       "         -1.37488291e-01, -8.80808942e-03, -1.12035371e-01,\n",
       "          6.07982457e-01, -8.77925605e-02,  2.89365649e-01,\n",
       "         -7.69843720e-03, -1.39707163e-01,  1.16163306e-02,\n",
       "         -3.25146466e-02, -1.87411100e-01,  2.15880685e-02,\n",
       "          5.06212175e-01,  3.98651809e-01, -1.14763096e-01,\n",
       "          1.70220360e-02, -2.42451236e-01,  3.32049996e-01,\n",
       "          6.16296567e-02,  6.15290701e-02,  4.71578538e-02,\n",
       "          4.65704799e-02, -1.98938444e-01, -6.96961433e-02,\n",
       "          7.23908097e-02,  1.00914188e-01,  1.92451954e-01,\n",
       "         -1.18966825e-01, -1.08030528e-01, -2.48482972e-01,\n",
       "         -3.64118554e-02, -5.99032044e-02,  1.21563263e-01,\n",
       "         -1.01199951e-02,  2.71395624e-01, -8.12848955e-02,\n",
       "         -7.31192678e-02, -2.29121335e-02,  1.46858886e-01,\n",
       "         -1.86814070e-01,  1.84582591e-01, -3.10309641e-02,\n",
       "         -2.34764785e-01, -3.07506099e-02,  3.65685552e-01,\n",
       "          2.91556746e-01, -5.81067093e-02,  1.32562235e-01,\n",
       "         -3.84971201e-01,  2.28772908e-01,  1.14118241e-01,\n",
       "         -2.52197459e-02,  9.32129771e-02,  1.56796277e-01,\n",
       "         -2.15939432e-01, -1.76310137e-01,  1.62702262e-01,\n",
       "          1.49183378e-01,  3.27004313e-01,  6.37315959e-03,\n",
       "         -1.61804557e-02, -1.37690932e-01,  9.09171551e-02,\n",
       "         -2.39579156e-01,  2.26668090e-01,  2.08748654e-01,\n",
       "          1.31513894e-01,  9.64389890e-02, -3.52116749e-02,\n",
       "         -3.04921158e-03,  1.98963672e-01, -1.83879614e-01,\n",
       "         -6.19161800e-02, -1.32189598e-02, -2.14594886e-01,\n",
       "          9.18709189e-02,  4.84163940e-01,  3.35760325e-01,\n",
       "         -9.38444734e-02,  2.64551610e-01, -3.07584882e-01,\n",
       "          1.98915660e-01,  1.78251252e-01,  1.58000529e-01,\n",
       "          2.76433229e-02,  1.40083000e-01, -3.28968227e-01,\n",
       "         -2.24992216e-01,  8.65164399e-02,  5.45121357e-02,\n",
       "          1.80870205e-01,  1.83131453e-03,  1.66713595e-01,\n",
       "         -2.66929746e-01, -4.87566516e-02, -7.72768930e-02,\n",
       "          2.12731570e-01,  1.01311281e-01,  3.29311162e-01,\n",
       "          1.29191047e-02, -9.46974941e-03,  2.81470194e-02,\n",
       "          9.93178338e-02,  8.26432556e-03,  2.62618698e-02,\n",
       "          1.12876073e-01, -9.86608639e-02, -2.95382049e-02,\n",
       "          5.26394010e-01,  3.63450587e-01, -1.46255642e-01,\n",
       "          5.44082634e-02, -1.80739015e-01,  2.85411686e-01,\n",
       "          2.25023285e-01,  7.70457983e-02,  4.42018360e-02,\n",
       "          2.16407962e-02, -3.67462724e-01, -1.77480608e-01,\n",
       "          6.81885406e-02,  7.82335084e-03,  3.68683189e-01,\n",
       "         -7.22050518e-02, -8.39529559e-03, -2.20157370e-01,\n",
       "         -6.83585182e-03, -1.22459188e-01,  2.22196862e-01,\n",
       "         -1.10304922e-01,  2.14790598e-01,  1.64422438e-01,\n",
       "         -1.28884375e-01,  2.31564585e-02,  1.00491539e-01,\n",
       "         -1.89719930e-01,  4.23498973e-02, -3.73032130e-03,\n",
       "         -2.00593829e-01,  6.31244332e-02,  3.36355835e-01,\n",
       "          4.25792873e-01, -1.74955413e-01,  2.41762936e-01,\n",
       "         -2.86927134e-01,  3.35083961e-01,  6.42709583e-02,\n",
       "         -1.17837928e-01,  1.15092769e-01,  7.50289634e-02,\n",
       "         -2.13496462e-01, -1.61184520e-01,  1.19680434e-01,\n",
       "          4.96953875e-02,  1.85365438e-01, -9.86914784e-02,\n",
       "         -7.02346712e-02, -3.20940793e-01,  1.31370395e-01,\n",
       "         -1.86719075e-01,  1.62493721e-01, -1.03426695e-01,\n",
       "          2.45788112e-01,  7.35692456e-02, -1.42114937e-01,\n",
       "          1.29531428e-01,  1.89699903e-01, -1.28433138e-01,\n",
       "         -2.68461019e-01, -1.52027518e-01, -8.31037164e-02,\n",
       "          3.92666087e-03, -1.41105369e-01, -1.72879264e-01,\n",
       "         -1.68719724e-01, -5.20359203e-02, -9.55849737e-02,\n",
       "         -1.50585264e-01, -8.87191296e-02, -1.99061409e-02,\n",
       "         -2.21802890e-02, -5.98231517e-02, -6.52967468e-02,\n",
       "         -9.74343345e-02, -7.35061318e-02, -1.11852616e-01,\n",
       "         -3.30869928e-02, -1.21795833e-01, -1.16599157e-01,\n",
       "         -1.85712934e-01, -2.53906157e-02, -5.01888804e-02,\n",
       "         -1.19083375e-01,  2.33492088e-02, -2.27796286e-01,\n",
       "         -1.59641683e-01, -1.74379349e-01, -8.69513601e-02,\n",
       "         -4.63419706e-02, -1.19876385e-01, -2.58531511e-01,\n",
       "         -7.28552788e-02, -9.01457891e-02, -1.13881156e-01,\n",
       "          1.16137944e-01, -2.10740343e-01, -1.21697977e-01,\n",
       "          1.85870230e-02, -2.26233155e-01, -1.71457648e-01,\n",
       "         -2.52690315e-02, -5.37020415e-02, -1.44790858e-03,\n",
       "         -5.13721630e-02, -2.27228105e-01, -1.68804556e-01,\n",
       "         -2.54482359e-01, -1.26808628e-01,  9.99418646e-03,\n",
       "         -7.08304495e-02, -9.42340568e-02, -1.64343894e-01,\n",
       "         -4.00273576e-02, -8.26296806e-02, -1.71935841e-01,\n",
       "          4.97682914e-02, -2.22387776e-01, -2.12849200e-01,\n",
       "         -2.07042068e-01, -6.12333305e-02, -5.47280535e-02,\n",
       "         -1.63203210e-01, -2.10312575e-01, -5.91941029e-02,\n",
       "         -4.83834296e-02, -4.53998521e-03, -1.22148357e-01,\n",
       "         -1.54501140e-01, -2.21757740e-01, -4.76278029e-02,\n",
       "         -3.26689631e-01, -1.87916979e-01, -1.28662482e-01,\n",
       "         -4.88763861e-02, -4.95845899e-02,  8.65045562e-03,\n",
       "         -4.22628820e-02, -2.34076679e-01, -1.06698155e-01,\n",
       "          4.05860692e-03,  1.65048279e-02, -3.27328891e-02,\n",
       "         -5.57840019e-02, -2.71631002e-01, -1.05053626e-01,\n",
       "         -2.60338262e-02, -1.44775331e-01, -1.95486229e-02,\n",
       "         -2.91367173e-01, -7.23045468e-02, -8.36164579e-02,\n",
       "         -9.20724496e-02, -2.39932276e-02, -1.36551887e-01,\n",
       "         -6.45669550e-02, -6.87568560e-02, -1.86039746e-01,\n",
       "         -6.20339215e-02,  2.74889171e-05, -1.28095016e-01,\n",
       "         -1.64388239e-01, -6.25829846e-02, -2.58062512e-01,\n",
       "         -2.82544009e-02, -6.74895048e-02, -2.68187039e-02,\n",
       "         -3.19699645e-02, -8.48738253e-02, -2.87228674e-01,\n",
       "         -1.11444883e-01, -1.97789043e-01, -2.51696724e-02,\n",
       "         -7.17113391e-02, -1.86526299e-01, -3.73195633e-02,\n",
       "         -1.92746073e-01, -1.17551550e-01, -1.56939141e-02,\n",
       "         -8.95664841e-02, -6.76141679e-02, -4.32228893e-02,\n",
       "         -3.24695818e-02, -2.89550751e-01, -7.83867761e-02,\n",
       "         -3.07118464e-02, -1.45945922e-01, -2.16247976e-01,\n",
       "         -8.53681192e-02, -1.45839155e-01, -7.21577853e-02,\n",
       "          1.05052754e-01, -2.95267701e-02, -2.53119469e-01,\n",
       "         -7.92164207e-02, -2.61734009e-01, -2.11133018e-01,\n",
       "         -2.10945494e-02, -1.34683475e-01, -7.30081648e-02,\n",
       "         -1.56875774e-02, -7.90104270e-03, -1.70848936e-01,\n",
       "         -1.68674961e-01, -5.47604561e-02, -7.03207552e-02,\n",
       "         -1.62583247e-01, -8.20864066e-02, -8.67872834e-02,\n",
       "         -1.59760743e-01, -1.24210760e-01, -1.00175828e-01,\n",
       "          2.13314742e-02, -1.81003511e-01, -1.27785355e-01,\n",
       "         -1.96910083e-01, -5.18686809e-02, -4.81022522e-02,\n",
       "          6.53594062e-02, -1.07700028e-01]]], dtype=float32)"
      ]
     },
     "execution_count": 100,
     "metadata": {},
     "output_type": "execute_result"
    }
   ],
   "source": [
    "y_pred"
   ]
  },
  {
   "cell_type": "code",
   "execution_count": null,
   "metadata": {},
   "outputs": [],
   "source": []
  }
 ],
 "metadata": {
  "kernelspec": {
   "display_name": "worldmodels",
   "language": "python",
   "name": "worldmodels"
  },
  "language_info": {
   "codemirror_mode": {
    "name": "ipython",
    "version": 3
   },
   "file_extension": ".py",
   "mimetype": "text/x-python",
   "name": "python",
   "nbconvert_exporter": "python",
   "pygments_lexer": "ipython3",
   "version": "3.6.4"
  }
 },
 "nbformat": 4,
 "nbformat_minor": 2
}
