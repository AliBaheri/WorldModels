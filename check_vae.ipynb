{
 "cells": [
  {
   "cell_type": "code",
   "execution_count": 1,
   "metadata": {},
   "outputs": [
    {
     "name": "stderr",
     "output_type": "stream",
     "text": [
      "/Users/davidfoster/.virtualenvs/worldmodels/lib/python3.6/site-packages/h5py/__init__.py:36: FutureWarning: Conversion of the second argument of issubdtype from `float` to `np.floating` is deprecated. In future, it will be treated as `np.float64 == np.dtype(float).type`.\n",
      "  from ._conv import register_converters as _register_converters\n",
      "Using TensorFlow backend.\n"
     ]
    }
   ],
   "source": [
    "import numpy as np\n",
    "from vae.arch import VAE\n",
    "import matplotlib.pyplot as plt\n",
    "batch_num = 0"
   ]
  },
  {
   "cell_type": "code",
   "execution_count": 2,
   "metadata": {},
   "outputs": [],
   "source": [
    "vae = VAE()\n",
    "vae.set_weights('./vae/weights.h5')"
   ]
  },
  {
   "cell_type": "code",
   "execution_count": 3,
   "metadata": {},
   "outputs": [],
   "source": [
    "obs_data = np.load('./data/obs_data_car_racing_' + str(batch_num) + '.npy') \n",
    "action_data = np.load('./data/action_data_car_racing_' + str(batch_num) + '.npy')\n",
    "reward_data = np.load('./data/reward_data_car_racing_' + str(batch_num) + '.npy') \n",
    "done_data = np.load('./data/done_data_car_racing_' + str(batch_num) + '.npy')\n",
    "rnn_input = np.load('./data/rnn_input_' + str(batch_num) + '.npy') \n",
    "rnn_output = np.load('./data/rnn_output_' + str(batch_num) + '.npy')"
   ]
  },
  {
   "cell_type": "code",
   "execution_count": 4,
   "metadata": {},
   "outputs": [
    {
     "data": {
      "text/plain": [
       "(299, 35)"
      ]
     },
     "execution_count": 4,
     "metadata": {},
     "output_type": "execute_result"
    }
   ],
   "source": [
    "rnn_input[0].shape"
   ]
  },
  {
   "cell_type": "code",
   "execution_count": 5,
   "metadata": {},
   "outputs": [
    {
     "data": {
      "text/plain": [
       "(299, 34)"
      ]
     },
     "execution_count": 5,
     "metadata": {},
     "output_type": "execute_result"
    }
   ],
   "source": [
    "rnn_output[0].shape"
   ]
  },
  {
   "cell_type": "code",
   "execution_count": 6,
   "metadata": {},
   "outputs": [
    {
     "name": "stdout",
     "output_type": "stream",
     "text": [
      "[ 0.4150559   0.91052317 -1.04474245  0.30461107 -0.67085082  0.67729807\n",
      "  1.6245269  -0.79195908  1.55952039 -0.84370605 -1.59933086 -0.75250287\n",
      " -1.30592514 -1.20829211 -0.13562487 -0.93270947 -0.50538584 -0.21083795\n",
      "  0.27757531 -1.00108614 -0.08338227  0.49316036 -0.94118018  0.10695162\n",
      " -0.4353165  -1.52131684  0.04935725 -1.6026138  -1.22860554 -0.01676993\n",
      "  0.57974506  1.3946451   0.          1.          0.        ]\n"
     ]
    },
    {
     "data": {
      "text/plain": [
       "<function matplotlib.pyplot.show>"
      ]
     },
     "execution_count": 6,
     "metadata": {},
     "output_type": "execute_result"
    },
    {
     "data": {
      "image/png": "[encoded data removed]",
      "text/plain": [
       "<Figure size 432x288 with 1 Axes>"
      ]
     },
     "metadata": {},
     "output_type": "display_data"
    }
   ],
   "source": [
    "idx = 50\n",
    "obs = rnn_input[0][idx]\n",
    "print(obs)\n",
    "z_decoded = vae.decoder.predict(np.array([obs[:32]]))[0]\n",
    "plt.imshow(z_decoded)\n",
    "plt.show"
   ]
  },
  {
   "cell_type": "code",
   "execution_count": null,
   "metadata": {},
   "outputs": [],
   "source": []
  },
  {
   "cell_type": "code",
   "execution_count": null,
   "metadata": {},
   "outputs": [],
   "source": []
  }
 ],
 "metadata": {
  "kernelspec": {
   "display_name": "worldmodels",
   "language": "python",
   "name": "worldmodels"
  },
  "language_info": {
   "codemirror_mode": {
    "name": "ipython",
    "version": 3
   },
   "file_extension": ".py",
   "mimetype": "text/x-python",
   "name": "python",
   "nbconvert_exporter": "python",
   "pygments_lexer": "ipython3",
   "version": "3.6.4"
  }
 },
 "nbformat": 4,
 "nbformat_minor": 2
}
