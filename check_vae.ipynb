{
 "cells": [
  {
   "cell_type": "code",
   "execution_count": 21,
   "metadata": {},
   "outputs": [],
   "source": [
    "import numpy as np\n",
    "from vae.arch import VAE\n",
    "import matplotlib.pyplot as plt\n",
    "batch_num = 0"
   ]
  },
  {
   "cell_type": "code",
   "execution_count": 22,
   "metadata": {},
   "outputs": [],
   "source": [
    "vae = VAE()\n",
    "vae.set_weights('./vae/weights.h5')"
   ]
  },
  {
   "cell_type": "code",
   "execution_count": 23,
   "metadata": {},
   "outputs": [],
   "source": [
    "obs_data = np.load('./data/obs_data_car_racing_' + str(batch_num) + '.npy') \n",
    "action_data = np.load('./data/action_data_car_racing_' + str(batch_num) + '.npy')\n",
    "reward_data = np.load('./data/reward_data_car_racing_' + str(batch_num) + '.npy') \n",
    "done_data = np.load('./data/done_data_car_racing_' + str(batch_num) + '.npy')\n",
    "rnn_input = np.load('./data/rnn_input_' + str(batch_num) + '.npy') \n",
    "rnn_output = np.load('./data/rnn_output_' + str(batch_num) + '.npy')"
   ]
  },
  {
   "cell_type": "code",
   "execution_count": 24,
   "metadata": {},
   "outputs": [
    {
     "data": {
      "text/plain": [
       "(299, 35)"
      ]
     },
     "execution_count": 24,
     "metadata": {},
     "output_type": "execute_result"
    }
   ],
   "source": [
    "rnn_input[0].shape"
   ]
  },
  {
   "cell_type": "code",
   "execution_count": 25,
   "metadata": {},
   "outputs": [
    {
     "data": {
      "text/plain": [
       "(299, 34)"
      ]
     },
     "execution_count": 25,
     "metadata": {},
     "output_type": "execute_result"
    }
   ],
   "source": [
    "rnn_output[0].shape"
   ]
  },
  {
   "cell_type": "code",
   "execution_count": 27,
   "metadata": {},
   "outputs": [
    {
     "name": "stdout",
     "output_type": "stream",
     "text": [
      "[-1.16145907  0.50381821 -1.18367703  1.28263645 -1.26160877 -0.60412203\n",
      " -1.13643847  0.39341508 -0.89426659  1.79866918 -1.1611687   0.31429223\n",
      "  0.92581699 -1.1796132  -0.72746764 -0.38649861  0.24985949 -0.4227441\n",
      " -0.58005775 -1.35455005  0.14457565 -1.16566672 -1.25557546 -0.30915712\n",
      "  0.81428614 -0.23972352 -1.86040719 -0.09067423  1.89495872  1.94010379\n",
      " -1.08764951  1.22267808  0.          1.          0.        ]\n"
     ]
    },
    {
     "data": {
      "text/plain": [
       "<function matplotlib.pyplot.show>"
      ]
     },
     "execution_count": 27,
     "metadata": {},
     "output_type": "execute_result"
    },
    {
     "data": {
      "image/png": "[encoded data removed]",
      "text/plain": [
       "<Figure size 432x288 with 1 Axes>"
      ]
     },
     "metadata": {},
     "output_type": "display_data"
    }
   ],
   "source": [
    "idx = 50\n",
    "obs = rnn_input[0][idx]\n",
    "print(obs)\n",
    "z_decoded = vae.decoder.predict(np.array([obs[:32]]))[0]\n",
    "plt.imshow(z_decoded)\n",
    "plt.show"
   ]
  },
  {
   "cell_type": "code",
   "execution_count": null,
   "metadata": {},
   "outputs": [],
   "source": []
  },
  {
   "cell_type": "code",
   "execution_count": null,
   "metadata": {},
   "outputs": [],
   "source": []
  }
 ],
 "metadata": {
  "kernelspec": {
   "display_name": "worldmodels",
   "language": "python",
   "name": "worldmodels"
  },
  "language_info": {
   "codemirror_mode": {
    "name": "ipython",
    "version": 3
   },
   "file_extension": ".py",
   "mimetype": "text/x-python",
   "name": "python",
   "nbconvert_exporter": "python",
   "pygments_lexer": "ipython3",
   "version": "3.6.4"
  }
 },
 "nbformat": 4,
 "nbformat_minor": 2
}
