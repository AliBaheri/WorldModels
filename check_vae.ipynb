{
 "cells": [
  {
   "cell_type": "code",
   "execution_count": 1,
   "metadata": {},
   "outputs": [
    {
     "name": "stderr",
     "output_type": "stream",
     "text": [
      "/Users/davidfoster/.virtualenvs/worldmodels/lib/python3.6/site-packages/h5py/__init__.py:36: FutureWarning: Conversion of the second argument of issubdtype from `float` to `np.floating` is deprecated. In future, it will be treated as `np.float64 == np.dtype(float).type`.\n",
      "  from ._conv import register_converters as _register_converters\n",
      "Using TensorFlow backend.\n"
     ]
    }
   ],
   "source": [
    "import numpy as np\n",
    "from vae.arch import VAE\n",
    "import matplotlib.pyplot as plt\n",
    "batch_num = 0"
   ]
  },
  {
   "cell_type": "code",
   "execution_count": 2,
   "metadata": {},
   "outputs": [],
   "source": [
    "vae = VAE()\n",
    "vae.set_weights('./vae/weights.h5')"
   ]
  },
  {
   "cell_type": "code",
   "execution_count": 3,
   "metadata": {},
   "outputs": [],
   "source": [
    "obs_data = np.load('./data/obs_data_car_racing_' + str(batch_num) + '.npy') \n",
    "action_data = np.load('./data/action_data_car_racing_' + str(batch_num) + '.npy')\n",
    "reward_data = np.load('./data/reward_data_car_racing_' + str(batch_num) + '.npy') \n",
    "done_data = np.load('./data/done_data_car_racing_' + str(batch_num) + '.npy')\n",
    "rnn_input = np.load('./data/rnn_input_' + str(batch_num) + '.npy') \n",
    "rnn_output = np.load('./data/rnn_output_' + str(batch_num) + '.npy')"
   ]
  },
  {
   "cell_type": "code",
   "execution_count": 4,
   "metadata": {},
   "outputs": [
    {
     "data": {
      "text/plain": [
       "(299, 35)"
      ]
     },
     "execution_count": 4,
     "metadata": {},
     "output_type": "execute_result"
    }
   ],
   "source": [
    "rnn_input[0].shape"
   ]
  },
  {
   "cell_type": "code",
   "execution_count": 5,
   "metadata": {},
   "outputs": [
    {
     "data": {
      "text/plain": [
       "(299, 34)"
      ]
     },
     "execution_count": 5,
     "metadata": {},
     "output_type": "execute_result"
    }
   ],
   "source": [
    "rnn_output[0].shape"
   ]
  },
  {
   "cell_type": "code",
   "execution_count": 7,
   "metadata": {},
   "outputs": [
    {
     "name": "stdout",
     "output_type": "stream",
     "text": [
      "[-5.67852376e-01  5.11378162e-01  5.91822352e-01 -8.37370806e-01\n",
      " -1.25358914e-01  7.58705105e-01 -6.37707056e-01  1.37142070e+00\n",
      " -2.57643138e+00  1.54584229e+00 -1.04261337e+00  7.64055548e-01\n",
      "  1.27509541e+00 -7.62761422e-01 -4.59945608e-01  8.26795378e-01\n",
      " -8.60223973e-01 -5.90274616e-01  2.86860821e+00 -1.85193266e+00\n",
      " -1.91829355e-04 -2.34797795e-01 -2.17933063e-01  1.09487168e+00\n",
      " -6.24955297e-01 -3.31451373e-01  5.06588373e-01  2.31793518e-03\n",
      " -1.00528106e-01  2.88291571e-01  2.22257716e+00  9.22314950e-01\n",
      "  0.00000000e+00  3.72278164e-01  0.00000000e+00]\n"
     ]
    },
    {
     "data": {
      "text/plain": [
       "<function matplotlib.pyplot.show>"
      ]
     },
     "execution_count": 7,
     "metadata": {},
     "output_type": "execute_result"
    },
    {
     "data": {
      "image/png": "[encoded data removed]",
      "text/plain": [
       "<Figure size 432x288 with 1 Axes>"
      ]
     },
     "metadata": {},
     "output_type": "display_data"
    }
   ],
   "source": [
    "idx = 75\n",
    "obs = rnn_input[0][idx]\n",
    "print(obs)\n",
    "z_decoded = vae.decoder.predict(np.array([obs[:32]]))[0]\n",
    "plt.imshow(z_decoded)\n",
    "plt.show"
   ]
  },
  {
   "cell_type": "code",
   "execution_count": null,
   "metadata": {},
   "outputs": [],
   "source": []
  },
  {
   "cell_type": "code",
   "execution_count": null,
   "metadata": {},
   "outputs": [],
   "source": []
  }
 ],
 "metadata": {
  "kernelspec": {
   "display_name": "worldmodels",
   "language": "python",
   "name": "worldmodels"
  },
  "language_info": {
   "codemirror_mode": {
    "name": "ipython",
    "version": 3
   },
   "file_extension": ".py",
   "mimetype": "text/x-python",
   "name": "python",
   "nbconvert_exporter": "python",
   "pygments_lexer": "ipython3",
   "version": "3.6.4"
  }
 },
 "nbformat": 4,
 "nbformat_minor": 2
}
